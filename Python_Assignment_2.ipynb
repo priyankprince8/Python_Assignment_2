{
  "nbformat": 4,
  "nbformat_minor": 0,
  "metadata": {
    "colab": {
      "provenance": []
    },
    "kernelspec": {
      "name": "python3",
      "display_name": "Python 3"
    },
    "language_info": {
      "name": "python"
    }
  },
  "cells": [
    {
      "cell_type": "code",
      "execution_count": 1,
      "metadata": {
        "id": "Wq0Dw-yI2KOg"
      },
      "outputs": [],
      "source": [
        "#1.What are the two values of the Boolean data type? How do you write them?\n",
        "# The Boolean data type has two possible values: True and False.True and False, using capital T and F, with the rest of the word in lowercase."
      ]
    },
    {
      "cell_type": "code",
      "source": [
        "#2. What are the three different types of Boolean operators?\n",
        "# AND Operator (and) , OR Operator (or), NOT Operator (not)"
      ],
      "metadata": {
        "id": "1cktOECX2yJG"
      },
      "execution_count": 2,
      "outputs": []
    },
    {
      "cell_type": "code",
      "source": [
        "#3. Make a list of each Boolean operator's truth tables (i.e. every possible combination of Boolean values for the operator and what it evaluate ).\n"
      ],
      "metadata": {
        "id": "3VwSKfAn3ajJ"
      },
      "execution_count": 3,
      "outputs": []
    },
    {
      "cell_type": "markdown",
      "source": [
        "```\n",
        "AND Operator (and):\n",
        "x |\ty| x and y\n",
        "True -\tTrue -\tTrue\n",
        "True -\tFalse -\tFalse\n",
        "False -\tTrue - False\n",
        "False -\tFalse -\tFalse\n",
        "OR Operator (or):\n",
        "x\t| y |\tx or y\n",
        "True\tTrue\tTrue\n",
        "True\tFalse\tTrue\n",
        "False\tTrue\tTrue\n",
        "False\tFalse\tFalse\n",
        "```\n",
        "````NOT Operator (not):\n",
        "x |\tnot x\n",
        "True\tFalse\n",
        "False\tTrue ````"
      ],
      "metadata": {
        "id": "XJ33ZA2T6RA_"
      }
    },
    {
      "cell_type": "markdown",
      "source": [
        "``4. What are the values of the following expressions?\n",
        "1-(5> 4) and (3 == 5),\n",
        "2-not (5 > 4),\n",
        "3-(5 > 4) or (3 == 5),\n",
        "4-not ((5 > 4) or (3 == 5)),\n",
        "5-(True and True) and (True == False),\n",
        "6-(not False) or (not True)``\n",
        "\n",
        "```Answers: 1-False\n",
        "2-False\n",
        "3-True\n",
        "4-False\n",
        "5-False\n",
        "6-True```"
      ],
      "metadata": {
        "id": "ZZUNdSfQ8_CQ"
      }
    },
    {
      "cell_type": "code",
      "source": [
        "#5. What are the six comparison operators?\n",
        "#The six different types of reference operators are : ==, !=, <, >, <=, and >=."
      ],
      "metadata": {
        "id": "kWOqHrpY6xiO"
      },
      "execution_count": 4,
      "outputs": []
    },
    {
      "cell_type": "code",
      "source": [
        "#6. How do you tell the difference between the equal to and assignment operators? Describe a condition and when you would use one.\n",
        "#== is the equal to operator that compares two values and evaluates to a Boolean, while = is the assignment operator that stores a value in a variable"
      ],
      "metadata": {
        "id": "v3dfLG4n-M6Z"
      },
      "execution_count": 5,
      "outputs": []
    },
    {
      "cell_type": "code",
      "source": [
        "#7. Identify the three blocks in this code:\n",
        "spam = 0\n",
        "if spam == 10:\n",
        "    print('eggs')  # Block 1\n",
        "if spam > 5:\n",
        "    print('bacon')  # Block 2\n",
        "else:\n",
        "    print('ham')  # Block 3\n",
        "print('spam')\n",
        "print('spam')\n"
      ],
      "metadata": {
        "colab": {
          "base_uri": "https://localhost:8080/"
        },
        "id": "xtPHAxxY-kKx",
        "outputId": "314cf390-02ed-44a8-bb71-026bbe47e77d"
      },
      "execution_count": 6,
      "outputs": [
        {
          "output_type": "stream",
          "name": "stdout",
          "text": [
            "ham\n",
            "spam\n",
            "spam\n"
          ]
        }
      ]
    },
    {
      "cell_type": "code",
      "source": [
        "#8. Write code that prints Hello if 1 is stored in spam, prints Howdy if 2 is stored in spam, and prints Greetings! if anything else is stored in spam.\n",
        "spam = int(input(\"Enter a number : \"))  # You can change the value of spam to test different cases\n",
        "\n",
        "if spam == 1:\n",
        "    print(\"Hello\")\n",
        "elif spam == 2:\n",
        "    print(\"Howdy\")\n",
        "else:\n",
        "    print(\"Greetings!\")\n",
        "\n"
      ],
      "metadata": {
        "colab": {
          "base_uri": "https://localhost:8080/"
        },
        "id": "-VmEdY9D_lH4",
        "outputId": "6ab093f2-1387-4d35-e59c-0e0af489ea20"
      },
      "execution_count": 8,
      "outputs": [
        {
          "output_type": "stream",
          "name": "stdout",
          "text": [
            "Enter a number : 2\n",
            "Howdy\n"
          ]
        }
      ]
    },
    {
      "cell_type": "code",
      "source": [
        "#9.If your programme is stuck in an endless loop, what keys you’ll press?\n",
        "#If your program is stuck in an endless loop, you can interrupt its execution by pressing the following keys, depending on the environment:\n",
        "#Keyboard Interrupt, Stop or Pause Button in the IDE,Stop Button in the Terminal/Console"
      ],
      "metadata": {
        "id": "fQl9pX3rAgiS"
      },
      "execution_count": 9,
      "outputs": []
    },
    {
      "cell_type": "code",
      "source": [
        "#10. How can you tell the difference between break and continue?\n",
        "#The break statement will move the execution outside and just after a loop. The continue statement will move the execution to the start of the loop."
      ],
      "metadata": {
        "id": "tl3UjoXgBXDr"
      },
      "execution_count": 10,
      "outputs": []
    },
    {
      "cell_type": "code",
      "source": [
        "#11. In a for loop, what is the difference between range(10), range(0, 10), and range(0, 10, 1)?\n",
        "#They all do the same thing. The range(10) call ranges from 0 up to (but not including) 10, range(0, 10) explicitly tells the loop to start at 0, and range(0, 10, 1) explicitly tells the loop to increase the variable by 1 on each iteration."
      ],
      "metadata": {
        "id": "ttiDvIFIBm_C"
      },
      "execution_count": 11,
      "outputs": []
    },
    {
      "cell_type": "code",
      "source": [
        "#12. Write a short program that prints the numbers 1 to 10 using a for loop. Then write an equivalent program that prints the numbers 1 to 10 using a while loop.\n",
        "for i in range(1, 11):\n",
        "    print(i)"
      ],
      "metadata": {
        "colab": {
          "base_uri": "https://localhost:8080/"
        },
        "id": "azNsRqE3B0sJ",
        "outputId": "bbfb9ac5-2cbb-497c-8655-cd277234b23d"
      },
      "execution_count": 12,
      "outputs": [
        {
          "output_type": "stream",
          "name": "stdout",
          "text": [
            "1\n",
            "2\n",
            "3\n",
            "4\n",
            "5\n",
            "6\n",
            "7\n",
            "8\n",
            "9\n",
            "10\n"
          ]
        }
      ]
    },
    {
      "cell_type": "code",
      "source": [
        "#13. If you had a function named bacon() inside a module named spam, how would you call it after importing spam?\n",
        "#If you have a function named bacon() inside a module named spam, and you want to call this function after importing the spam module, you would do it like this.This function can be called with spam.bacon()."
      ],
      "metadata": {
        "id": "dC_5gHqgCIxr"
      },
      "execution_count": null,
      "outputs": []
    }
  ]
}